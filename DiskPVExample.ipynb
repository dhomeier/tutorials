{
 "cells": [
  {
   "cell_type": "markdown",
   "id": "rising-envelope",
   "metadata": {
    "tags": []
   },
   "source": [
    "# Position-Velocity Diagrams from Disks\n",
    "\n",
    "## Authors\n",
    "Adam Ginsburg, Eric Koch\n",
    "\n",
    "## Learning Goals\n",
    "* Extract a position-velocity diagram from a spectral cube of a protoplanetary disk using [pvextractor](https://pvextractor.readthedocs.io/en/latest/)\n",
    "* Extract a position-velocity diagram from a spectral cube of a protoplanetary disk using [reproject](https://reproject.readthedocs.io/en/stable/) via [spectral-cube](http://spectral-cube.readthedocs.io/) using a [region](https://astropy-regions.readthedocs.io/) mask\n",
    "\n",
    "## Keywords\n",
    "cube, pv-diagram\n",
    "\n",
    "## Summary\n",
    "In this tutorial, we will extract position-velocity (PV) diagrams from a cube of a disk and plot them."
   ]
  },
  {
   "cell_type": "markdown",
   "id": "friendly-offering",
   "metadata": {},
   "source": [
    "# Requirements\n",
    "\n",
    "!pip install --upgrade spectral-cube git+https://github.com/radio-astro-tools/pvextractor.git@61e118aaf28e2d746deeccf06af8fdd7f405b815 radio-beam regions reproject"
   ]
  },
  {
   "cell_type": "code",
   "execution_count": 1,
   "id": "careful-plasma",
   "metadata": {},
   "outputs": [],
   "source": [
    "import numpy as np\n",
    "from astropy.utils.data import download_file\n",
    "from spectral_cube import SpectralCube\n",
    "from astropy import wcs"
   ]
  },
  {
   "cell_type": "code",
   "execution_count": 2,
   "id": "closing-ending",
   "metadata": {},
   "outputs": [],
   "source": [
    "import pylab as pl\n",
    "# set so that these display properly on black backgrounds\n",
    "pl.rcParams['figure.facecolor']='w'"
   ]
  },
  {
   "cell_type": "code",
   "execution_count": 3,
   "id": "extensive-america",
   "metadata": {},
   "outputs": [],
   "source": [
    "import radio_beam"
   ]
  },
  {
   "cell_type": "code",
   "execution_count": 4,
   "id": "mechanical-cincinnati",
   "metadata": {},
   "outputs": [],
   "source": [
    "from astropy import units as u"
   ]
  },
  {
   "cell_type": "markdown",
   "id": "mechanical-fault",
   "metadata": {},
   "source": [
    "We download a 2cube from the MAPS survey:"
   ]
  },
  {
   "cell_type": "code",
   "execution_count": 8,
   "id": "needed-passenger",
   "metadata": {
    "collapsed": true,
    "jupyter": {
     "outputs_hidden": true
    }
   },
   "outputs": [
    {
     "ename": "KeyboardInterrupt",
     "evalue": "",
     "output_type": "error",
     "traceback": [
      "\u001b[0;31m---------------------------------------------------------------------------\u001b[0m",
      "\u001b[0;31mKeyboardInterrupt\u001b[0m                         Traceback (most recent call last)",
      "\u001b[0;32m/scratch/local/12031989/ipykernel_8617/1567553435.py\u001b[0m in \u001b[0;36m<module>\u001b[0;34m\u001b[0m\n\u001b[1;32m      2\u001b[0m \u001b[0;32mwhile\u001b[0m \u001b[0;32mnot\u001b[0m \u001b[0msuccess\u001b[0m\u001b[0;34m:\u001b[0m\u001b[0;34m\u001b[0m\u001b[0;34m\u001b[0m\u001b[0m\n\u001b[1;32m      3\u001b[0m     \u001b[0;32mtry\u001b[0m\u001b[0;34m:\u001b[0m\u001b[0;34m\u001b[0m\u001b[0;34m\u001b[0m\u001b[0m\n\u001b[0;32m----> 4\u001b[0;31m         \u001b[0mfilename\u001b[0m \u001b[0;34m=\u001b[0m \u001b[0mdownload_file\u001b[0m\u001b[0;34m(\u001b[0m\u001b[0;34m'ftp://ftp.cv.nrao.edu/NRAO-staff/rloomis/MAPS/HD_163296/images/CO/0.15arcsec/HD_163296_CO_220GHz.0.15arcsec.JvMcorr.image.pbcor.fits'\u001b[0m\u001b[0;34m,\u001b[0m \u001b[0mcache\u001b[0m\u001b[0;34m=\u001b[0m\u001b[0;32mTrue\u001b[0m\u001b[0;34m,\u001b[0m \u001b[0mtimeout\u001b[0m\u001b[0;34m=\u001b[0m\u001b[0;36m10\u001b[0m\u001b[0;34m)\u001b[0m\u001b[0;34m\u001b[0m\u001b[0;34m\u001b[0m\u001b[0m\n\u001b[0m\u001b[1;32m      5\u001b[0m         \u001b[0msuccess\u001b[0m \u001b[0;34m=\u001b[0m \u001b[0;32mTrue\u001b[0m\u001b[0;34m\u001b[0m\u001b[0;34m\u001b[0m\u001b[0m\n\u001b[1;32m      6\u001b[0m     \u001b[0;32mexcept\u001b[0m \u001b[0mException\u001b[0m \u001b[0;32mas\u001b[0m \u001b[0mex\u001b[0m\u001b[0;34m:\u001b[0m\u001b[0;34m\u001b[0m\u001b[0;34m\u001b[0m\u001b[0m\n",
      "\u001b[0;32m/orange/adamginsburg/miniconda3/envs/python39/lib/python3.9/site-packages/astropy/utils/data.py\u001b[0m in \u001b[0;36mdownload_file\u001b[0;34m(remote_url, cache, show_progress, timeout, sources, pkgname, http_headers, ssl_context, allow_insecure)\u001b[0m\n\u001b[1;32m   1355\u001b[0m     \u001b[0;32mfor\u001b[0m \u001b[0msource_url\u001b[0m \u001b[0;32min\u001b[0m \u001b[0msources\u001b[0m\u001b[0;34m:\u001b[0m\u001b[0;34m\u001b[0m\u001b[0;34m\u001b[0m\u001b[0m\n\u001b[1;32m   1356\u001b[0m         \u001b[0;32mtry\u001b[0m\u001b[0;34m:\u001b[0m\u001b[0;34m\u001b[0m\u001b[0;34m\u001b[0m\u001b[0m\n\u001b[0;32m-> 1357\u001b[0;31m             f_name = _download_file_from_source(\n\u001b[0m\u001b[1;32m   1358\u001b[0m                     \u001b[0msource_url\u001b[0m\u001b[0;34m,\u001b[0m\u001b[0;34m\u001b[0m\u001b[0;34m\u001b[0m\u001b[0m\n\u001b[1;32m   1359\u001b[0m                     \u001b[0mtimeout\u001b[0m\u001b[0;34m=\u001b[0m\u001b[0mtimeout\u001b[0m\u001b[0;34m,\u001b[0m\u001b[0;34m\u001b[0m\u001b[0;34m\u001b[0m\u001b[0m\n",
      "\u001b[0;32m/orange/adamginsburg/miniconda3/envs/python39/lib/python3.9/site-packages/astropy/utils/data.py\u001b[0m in \u001b[0;36m_download_file_from_source\u001b[0;34m(source_url, show_progress, timeout, remote_url, cache, pkgname, http_headers, ftp_tls, ssl_context, allow_insecure)\u001b[0m\n\u001b[1;32m   1144\u001b[0m     \u001b[0;32mif\u001b[0m \u001b[0mftp_tls\u001b[0m \u001b[0;32mis\u001b[0m \u001b[0;32mNone\u001b[0m \u001b[0;32mand\u001b[0m \u001b[0murllib\u001b[0m\u001b[0;34m.\u001b[0m\u001b[0mparse\u001b[0m\u001b[0;34m.\u001b[0m\u001b[0murlparse\u001b[0m\u001b[0;34m(\u001b[0m\u001b[0mremote_url\u001b[0m\u001b[0;34m)\u001b[0m\u001b[0;34m.\u001b[0m\u001b[0mscheme\u001b[0m \u001b[0;34m==\u001b[0m \u001b[0;34m\"ftp\"\u001b[0m\u001b[0;34m:\u001b[0m\u001b[0;34m\u001b[0m\u001b[0;34m\u001b[0m\u001b[0m\n\u001b[1;32m   1145\u001b[0m         \u001b[0;32mtry\u001b[0m\u001b[0;34m:\u001b[0m\u001b[0;34m\u001b[0m\u001b[0;34m\u001b[0m\u001b[0m\n\u001b[0;32m-> 1146\u001b[0;31m             return _download_file_from_source(source_url,\n\u001b[0m\u001b[1;32m   1147\u001b[0m                                               \u001b[0mshow_progress\u001b[0m\u001b[0;34m=\u001b[0m\u001b[0mshow_progress\u001b[0m\u001b[0;34m,\u001b[0m\u001b[0;34m\u001b[0m\u001b[0;34m\u001b[0m\u001b[0m\n\u001b[1;32m   1148\u001b[0m                                               \u001b[0mtimeout\u001b[0m\u001b[0;34m=\u001b[0m\u001b[0mtimeout\u001b[0m\u001b[0;34m,\u001b[0m\u001b[0;34m\u001b[0m\u001b[0;34m\u001b[0m\u001b[0m\n",
      "\u001b[0;32m/orange/adamginsburg/miniconda3/envs/python39/lib/python3.9/site-packages/astropy/utils/data.py\u001b[0m in \u001b[0;36m_download_file_from_source\u001b[0;34m(source_url, show_progress, timeout, remote_url, cache, pkgname, http_headers, ftp_tls, ssl_context, allow_insecure)\u001b[0m\n\u001b[1;32m   1193\u001b[0m                         \u001b[0mbytes_read\u001b[0m \u001b[0;34m+=\u001b[0m \u001b[0mlen\u001b[0m\u001b[0;34m(\u001b[0m\u001b[0mblock\u001b[0m\u001b[0;34m)\u001b[0m\u001b[0;34m\u001b[0m\u001b[0;34m\u001b[0m\u001b[0m\n\u001b[1;32m   1194\u001b[0m                         \u001b[0mp\u001b[0m\u001b[0;34m.\u001b[0m\u001b[0mupdate\u001b[0m\u001b[0;34m(\u001b[0m\u001b[0mbytes_read\u001b[0m\u001b[0;34m)\u001b[0m\u001b[0;34m\u001b[0m\u001b[0;34m\u001b[0m\u001b[0m\n\u001b[0;32m-> 1195\u001b[0;31m                         \u001b[0mblock\u001b[0m \u001b[0;34m=\u001b[0m \u001b[0mremote\u001b[0m\u001b[0;34m.\u001b[0m\u001b[0mread\u001b[0m\u001b[0;34m(\u001b[0m\u001b[0mconf\u001b[0m\u001b[0;34m.\u001b[0m\u001b[0mdownload_block_size\u001b[0m\u001b[0;34m)\u001b[0m\u001b[0;34m\u001b[0m\u001b[0;34m\u001b[0m\u001b[0m\n\u001b[0m\u001b[1;32m   1196\u001b[0m                         \u001b[0;32mif\u001b[0m \u001b[0msize\u001b[0m \u001b[0;32mis\u001b[0m \u001b[0;32mnot\u001b[0m \u001b[0;32mNone\u001b[0m \u001b[0;32mand\u001b[0m \u001b[0mbytes_read\u001b[0m \u001b[0;34m>\u001b[0m \u001b[0msize\u001b[0m\u001b[0;34m:\u001b[0m\u001b[0;34m\u001b[0m\u001b[0;34m\u001b[0m\u001b[0m\n\u001b[1;32m   1197\u001b[0m                             raise urllib.error.URLError(\n",
      "\u001b[0;32m/orange/adamginsburg/miniconda3/envs/python39/lib/python3.9/tempfile.py\u001b[0m in \u001b[0;36mfunc_wrapper\u001b[0;34m(*args, **kwargs)\u001b[0m\n\u001b[1;32m    472\u001b[0m             \u001b[0;34m@\u001b[0m\u001b[0m_functools\u001b[0m\u001b[0;34m.\u001b[0m\u001b[0mwraps\u001b[0m\u001b[0;34m(\u001b[0m\u001b[0mfunc\u001b[0m\u001b[0;34m)\u001b[0m\u001b[0;34m\u001b[0m\u001b[0;34m\u001b[0m\u001b[0m\n\u001b[1;32m    473\u001b[0m             \u001b[0;32mdef\u001b[0m \u001b[0mfunc_wrapper\u001b[0m\u001b[0;34m(\u001b[0m\u001b[0;34m*\u001b[0m\u001b[0margs\u001b[0m\u001b[0;34m,\u001b[0m \u001b[0;34m**\u001b[0m\u001b[0mkwargs\u001b[0m\u001b[0;34m)\u001b[0m\u001b[0;34m:\u001b[0m\u001b[0;34m\u001b[0m\u001b[0;34m\u001b[0m\u001b[0m\n\u001b[0;32m--> 474\u001b[0;31m                 \u001b[0;32mreturn\u001b[0m \u001b[0mfunc\u001b[0m\u001b[0;34m(\u001b[0m\u001b[0;34m*\u001b[0m\u001b[0margs\u001b[0m\u001b[0;34m,\u001b[0m \u001b[0;34m**\u001b[0m\u001b[0mkwargs\u001b[0m\u001b[0;34m)\u001b[0m\u001b[0;34m\u001b[0m\u001b[0;34m\u001b[0m\u001b[0m\n\u001b[0m\u001b[1;32m    475\u001b[0m             \u001b[0;31m# Avoid closing the file as long as the wrapper is alive,\u001b[0m\u001b[0;34m\u001b[0m\u001b[0;34m\u001b[0m\u001b[0;34m\u001b[0m\u001b[0m\n\u001b[1;32m    476\u001b[0m             \u001b[0;31m# see issue #18879.\u001b[0m\u001b[0;34m\u001b[0m\u001b[0;34m\u001b[0m\u001b[0;34m\u001b[0m\u001b[0m\n",
      "\u001b[0;32m/orange/adamginsburg/miniconda3/envs/python39/lib/python3.9/tempfile.py\u001b[0m in \u001b[0;36mfunc_wrapper\u001b[0;34m(*args, **kwargs)\u001b[0m\n\u001b[1;32m    472\u001b[0m             \u001b[0;34m@\u001b[0m\u001b[0m_functools\u001b[0m\u001b[0;34m.\u001b[0m\u001b[0mwraps\u001b[0m\u001b[0;34m(\u001b[0m\u001b[0mfunc\u001b[0m\u001b[0;34m)\u001b[0m\u001b[0;34m\u001b[0m\u001b[0;34m\u001b[0m\u001b[0m\n\u001b[1;32m    473\u001b[0m             \u001b[0;32mdef\u001b[0m \u001b[0mfunc_wrapper\u001b[0m\u001b[0;34m(\u001b[0m\u001b[0;34m*\u001b[0m\u001b[0margs\u001b[0m\u001b[0;34m,\u001b[0m \u001b[0;34m**\u001b[0m\u001b[0mkwargs\u001b[0m\u001b[0;34m)\u001b[0m\u001b[0;34m:\u001b[0m\u001b[0;34m\u001b[0m\u001b[0;34m\u001b[0m\u001b[0m\n\u001b[0;32m--> 474\u001b[0;31m                 \u001b[0;32mreturn\u001b[0m \u001b[0mfunc\u001b[0m\u001b[0;34m(\u001b[0m\u001b[0;34m*\u001b[0m\u001b[0margs\u001b[0m\u001b[0;34m,\u001b[0m \u001b[0;34m**\u001b[0m\u001b[0mkwargs\u001b[0m\u001b[0;34m)\u001b[0m\u001b[0;34m\u001b[0m\u001b[0;34m\u001b[0m\u001b[0m\n\u001b[0m\u001b[1;32m    475\u001b[0m             \u001b[0;31m# Avoid closing the file as long as the wrapper is alive,\u001b[0m\u001b[0;34m\u001b[0m\u001b[0;34m\u001b[0m\u001b[0;34m\u001b[0m\u001b[0m\n\u001b[1;32m    476\u001b[0m             \u001b[0;31m# see issue #18879.\u001b[0m\u001b[0;34m\u001b[0m\u001b[0;34m\u001b[0m\u001b[0;34m\u001b[0m\u001b[0m\n",
      "\u001b[0;32m/orange/adamginsburg/miniconda3/envs/python39/lib/python3.9/socket.py\u001b[0m in \u001b[0;36mreadinto\u001b[0;34m(self, b)\u001b[0m\n\u001b[1;32m    702\u001b[0m         \u001b[0;32mwhile\u001b[0m \u001b[0;32mTrue\u001b[0m\u001b[0;34m:\u001b[0m\u001b[0;34m\u001b[0m\u001b[0;34m\u001b[0m\u001b[0m\n\u001b[1;32m    703\u001b[0m             \u001b[0;32mtry\u001b[0m\u001b[0;34m:\u001b[0m\u001b[0;34m\u001b[0m\u001b[0;34m\u001b[0m\u001b[0m\n\u001b[0;32m--> 704\u001b[0;31m                 \u001b[0;32mreturn\u001b[0m \u001b[0mself\u001b[0m\u001b[0;34m.\u001b[0m\u001b[0m_sock\u001b[0m\u001b[0;34m.\u001b[0m\u001b[0mrecv_into\u001b[0m\u001b[0;34m(\u001b[0m\u001b[0mb\u001b[0m\u001b[0;34m)\u001b[0m\u001b[0;34m\u001b[0m\u001b[0;34m\u001b[0m\u001b[0m\n\u001b[0m\u001b[1;32m    705\u001b[0m             \u001b[0;32mexcept\u001b[0m \u001b[0mtimeout\u001b[0m\u001b[0;34m:\u001b[0m\u001b[0;34m\u001b[0m\u001b[0;34m\u001b[0m\u001b[0m\n\u001b[1;32m    706\u001b[0m                 \u001b[0mself\u001b[0m\u001b[0;34m.\u001b[0m\u001b[0m_timeout_occurred\u001b[0m \u001b[0;34m=\u001b[0m \u001b[0;32mTrue\u001b[0m\u001b[0;34m\u001b[0m\u001b[0;34m\u001b[0m\u001b[0m\n",
      "\u001b[0;31mKeyboardInterrupt\u001b[0m: "
     ]
    }
   ],
   "source": [
    "filename = 'HD_163296_CO_220GHz.0.15arcsec.JvMcorr.image.pbcor.fits'\n",
    "if not os.path.exists(filename):\n",
    "    try:\n",
    "        filename = download_file('ftp://ftp.cv.nrao.edu/NRAO-staff/rloomis/MAPS/HD_163296/images/CO/0.15arcsec/HD_163296_CO_220GHz.0.15arcsec.JvMcorr.image.pbcor.fits', cache=True, timeout=10)\n",
    "    except:\n",
    "        import ftplib\n",
    "        ftp = ftplib.FTP('ftp.cv.nrao.edu')\n",
    "        ftp.login()\n",
    "        ftp.cwd('NRAO-staff/rloomis/MAPS/HD_163296/images/CO/0.15arcsec')\n",
    "        with open('HD_163296_CO_220GHz.0.15arcsec.JvMcorr.image.pbcor.fits', 'wb') as fp:\n",
    "            ftp.retrbinary('RETR HD_163296_CO_220GHz.0.15arcsec.JvMcorr.image.pbcor.fits', fp.write)\n",
    "        ftp.quit()    "
   ]
  },
  {
   "cell_type": "code",
   "execution_count": null,
   "id": "fitting-holmes",
   "metadata": {},
   "outputs": [],
   "source": [
    "import ftplib\n",
    "ftp = ftplib.FTP('ftp.cv.nrao.edu')\n",
    "ftp.login()\n",
    "ftp.cwd('NRAO-staff/rloomis/MAPS/HD_163296/images/CO/0.15arcsec')\n",
    "with open('HD_163296_CO_220GHz.0.15arcsec.JvMcorr.image.pbcor.fits', 'wb') as fp:\n",
    "    ftp.retrbinary('RETR HD_163296_CO_220GHz.0.15arcsec.JvMcorr.image.pbcor.fits', fp.write)\n",
    "ftp.quit()"
   ]
  },
  {
   "cell_type": "markdown",
   "id": "palestinian-authority",
   "metadata": {},
   "source": [
    "We load the cube using the `dask` backend, which allows for some parallelization:"
   ]
  },
  {
   "cell_type": "code",
   "execution_count": null,
   "id": "based-surgery",
   "metadata": {},
   "outputs": [],
   "source": [
    "cube = SpectralCube.read(filename, use_dask=True)"
   ]
  },
  {
   "cell_type": "code",
   "execution_count": null,
   "id": "constant-wonder",
   "metadata": {},
   "outputs": [],
   "source": [
    "cube"
   ]
  },
  {
   "cell_type": "code",
   "execution_count": null,
   "id": "outer-johnson",
   "metadata": {},
   "outputs": [],
   "source": [
    "mx = cube.max(axis=0)"
   ]
  },
  {
   "cell_type": "markdown",
   "id": "fresh-radiation",
   "metadata": {},
   "source": [
    "A quick look at the image cube shows that there is a disk rotated about 45 degrees in the center of the frame:"
   ]
  },
  {
   "cell_type": "code",
   "execution_count": null,
   "id": "mysterious-dancing",
   "metadata": {},
   "outputs": [],
   "source": [
    "pl.imshow(mx.value, origin='lower')"
   ]
  },
  {
   "cell_type": "markdown",
   "id": "precise-rachel",
   "metadata": {},
   "source": [
    "We can draw an ellipse around the disk to downselect only it:"
   ]
  },
  {
   "cell_type": "code",
   "execution_count": null,
   "id": "golden-privacy",
   "metadata": {},
   "outputs": [],
   "source": [
    "import regions"
   ]
  },
  {
   "cell_type": "code",
   "execution_count": null,
   "id": "touched-replication",
   "metadata": {},
   "outputs": [],
   "source": [
    "center = regions.PixCoord(1024, 1024)\n",
    "ellipse = regions.EllipsePixelRegion(center, width=550, height=400, angle=45*u.deg)"
   ]
  },
  {
   "cell_type": "code",
   "execution_count": null,
   "id": "verified-administrator",
   "metadata": {},
   "outputs": [],
   "source": [
    "ax = pl.gca()\n",
    "ax.imshow(mx.value, origin='lower')\n",
    "ellipse.plot(ax=ax, facecolor='none', edgecolor='red', lw=2)"
   ]
  },
  {
   "cell_type": "markdown",
   "id": "relevant-marking",
   "metadata": {},
   "source": [
    "We make a cutout by creating a subcube using the ellipse region as a mask:"
   ]
  },
  {
   "cell_type": "code",
   "execution_count": null,
   "id": "wrapped-longitude",
   "metadata": {},
   "outputs": [],
   "source": [
    "cutout = cube.subcube_from_regions([ellipse])\n",
    "cutout"
   ]
  },
  {
   "cell_type": "markdown",
   "id": "sporting-arnold",
   "metadata": {},
   "source": [
    "Then we want to extract a position-velocity diagram across the disk.\n",
    "\n",
    "We specify a width of 200 pixels (we could go to ~400) so we average across the short axis of the disk:"
   ]
  },
  {
   "cell_type": "code",
   "execution_count": null,
   "id": "exciting-giving",
   "metadata": {},
   "outputs": [],
   "source": [
    "import pvextractor"
   ]
  },
  {
   "cell_type": "code",
   "execution_count": null,
   "id": "responsible-blair",
   "metadata": {},
   "outputs": [],
   "source": [
    "path = pvextractor.Path([(0,0), (481,481)], width=200)"
   ]
  },
  {
   "cell_type": "markdown",
   "id": "compressed-disclaimer",
   "metadata": {},
   "source": [
    "We show the path overlaid on our cutout disk:"
   ]
  },
  {
   "cell_type": "code",
   "execution_count": null,
   "id": "electronic-virginia",
   "metadata": {},
   "outputs": [],
   "source": [
    "ax = pl.subplot(111, projection=cutout.wcs.celestial)\n",
    "ax.imshow(cutout.max(axis=0).value, origin='lower')\n",
    "path.show_on_axis(ax, spacing=5, alpha=0.7, linewidth=0.25)"
   ]
  },
  {
   "cell_type": "markdown",
   "id": "entire-allergy",
   "metadata": {},
   "source": [
    "Then, we extract the PV diagram.  We choose spacing=5 to average over 5 pixels.  This averaging isn't necessary, but does make the operation a little faster and increases the signal-to-noise ratio per spatial bin."
   ]
  },
  {
   "cell_type": "code",
   "execution_count": null,
   "id": "aerial-employee",
   "metadata": {},
   "outputs": [],
   "source": [
    "pv = pvextractor.extract_pv_slice(cutout.with_spectral_unit(u.km/u.s, velocity_convention='radio'), path, spacing=5)"
   ]
  },
  {
   "cell_type": "markdown",
   "id": "finished-maximum",
   "metadata": {},
   "source": [
    "And plot the resulting diagram:"
   ]
  },
  {
   "cell_type": "code",
   "execution_count": null,
   "id": "organizational-compact",
   "metadata": {},
   "outputs": [],
   "source": [
    "ax = pl.subplot(111, projection=wcs.WCS(pv.header))\n",
    "im = ax.imshow(pv.data)\n",
    "cb = pl.colorbar(mappable=im)\n",
    "cb.set_label(\"Brightness Temperature [K]\")\n",
    "ax.set_aspect(1)"
   ]
  },
  {
   "cell_type": "markdown",
   "id": "amino-thumbnail",
   "metadata": {},
   "source": [
    "# Second approach\n",
    "\n",
    "We can also reproject the whole cube by rotating 45 degrees.\n",
    "\n",
    "This requires making our own new header, which is a bit tedious, but effective."
   ]
  },
  {
   "cell_type": "code",
   "execution_count": null,
   "id": "proud-livestock",
   "metadata": {},
   "outputs": [],
   "source": [
    "header = cutout.wcs.to_header()\n",
    "header['NAXIS'] = 3\n",
    "header['NAXIS1'] = 600\n",
    "header['NAXIS2'] = 400\n",
    "header['NAXIS3'] = cutout.shape[0]\n",
    "angle = 45*u.deg\n",
    "header['CD1_1'] = np.cos(angle).value * np.abs(cube.wcs.wcs.cdelt[0])\n",
    "header['CD2_1'] = -np.sin(angle).value * np.abs(cube.wcs.wcs.cdelt[0])\n",
    "header['CD1_2'] = np.sin(angle).value * np.abs(cube.wcs.wcs.cdelt[1])\n",
    "header['CD2_2'] = np.cos(angle).value * np.abs(cube.wcs.wcs.cdelt[1])\n",
    "header['CD3_3'] = cube.wcs.wcs.cdelt[2]\n",
    "header['CRPIX1'] = 300\n",
    "header['CRPIX2'] = 200"
   ]
  },
  {
   "cell_type": "markdown",
   "id": "executed-minority",
   "metadata": {},
   "source": [
    "We then reproject the whole cube, which takes a minute or two:"
   ]
  },
  {
   "cell_type": "code",
   "execution_count": null,
   "id": "quantitative-spending",
   "metadata": {},
   "outputs": [],
   "source": [
    "reproj = cutout.reproject(header)"
   ]
  },
  {
   "cell_type": "code",
   "execution_count": null,
   "id": "assigned-eating",
   "metadata": {},
   "outputs": [],
   "source": [
    "reproj"
   ]
  },
  {
   "cell_type": "code",
   "execution_count": null,
   "id": "divided-consultation",
   "metadata": {},
   "outputs": [],
   "source": [
    "rmax = reproj.max(axis=0)"
   ]
  },
  {
   "cell_type": "code",
   "execution_count": null,
   "id": "subject-sentence",
   "metadata": {},
   "outputs": [],
   "source": [
    "rmax.quicklook()"
   ]
  },
  {
   "cell_type": "markdown",
   "id": "desperate-stream",
   "metadata": {},
   "source": [
    "Then, the position-velocity diagram is easy: we just take the average along the short axis:"
   ]
  },
  {
   "cell_type": "code",
   "execution_count": null,
   "id": "homeless-explosion",
   "metadata": {},
   "outputs": [],
   "source": [
    "pv2 = reproj.with_spectral_unit(u.km/u.s, velocity_convention='radio').mean(axis=1)"
   ]
  },
  {
   "cell_type": "code",
   "execution_count": null,
   "id": "residential-virtue",
   "metadata": {},
   "outputs": [],
   "source": [
    "ax = pl.subplot(111, projection=wcs.WCS(pv2.header))\n",
    "im = ax.imshow(pv2.data)\n",
    "cb = pl.colorbar(mappable=im)\n",
    "cb.set_label(\"Brightness Temperature [K]\")\n",
    "ax.set_aspect(4)"
   ]
  },
  {
   "cell_type": "code",
   "execution_count": null,
   "id": "driving-delivery",
   "metadata": {},
   "outputs": [],
   "source": []
  }
 ],
 "metadata": {
  "kernelspec": {
   "display_name": "Py 3.9",
   "language": "python",
   "name": "python39"
  },
  "language_info": {
   "codemirror_mode": {
    "name": "ipython",
    "version": 3
   },
   "file_extension": ".py",
   "mimetype": "text/x-python",
   "name": "python",
   "nbconvert_exporter": "python",
   "pygments_lexer": "ipython3",
   "version": "3.9.2"
  }
 },
 "nbformat": 4,
 "nbformat_minor": 5
}
